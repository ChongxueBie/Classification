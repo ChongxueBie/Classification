{
 "cells": [
  {
   "cell_type": "code",
   "execution_count": 1,
   "metadata": {},
   "outputs": [],
   "source": [
    "from pylab import *\n",
    "import nylib, nylib2, cjlib, cxlib\n",
    "import pandas as pd\n",
    "import mouseProcessing\n",
    "import numpy\n",
    "import pandas as pd\n",
    "%matplotlib inline"
   ]
  },
  {
   "cell_type": "code",
   "execution_count": 2,
   "metadata": {},
   "outputs": [],
   "source": [
    "import scipy.io\n",
    "path3 = '/Volumes/CX/JHU/Machine_Learning_BreastTumor/results/20210104/old_mice/M1-3/'\n",
    "LD_MDA231_1_3 = scipy.io.loadmat(path3 +  'M1_3_LD_MDA_MB_231.mat')\n",
    "LD_MDA231_1_3 = LD_MDA231_1_3['LD_MDA_MB_231']\n",
    "LD_MCF7_1_3 = scipy.io.loadmat(path3 +  'M1_3_LD_MCF_7.mat')\n",
    "LD_MCF7_1_3 = LD_MCF7_1_3['LD_MCF_7']\n",
    "LD_muscle_1_3 = scipy.io.loadmat(path3 +  'M1_3_LD_muscle_back.mat')\n",
    "LD_muscle_1_3 = LD_muscle_1_3['LD_Muscle']\n",
    "\n",
    "path = '/Volumes/CX/JHU/Machine_Learning_BreastTumor/results/20210104/old_mice/M2/'\n",
    "LD_MDA231_2 = scipy.io.loadmat(path +  'M2_LD_MDA_MB_231.mat')\n",
    "LD_MDA231_2 = LD_MDA231_2['LD_MDA_MB_231']\n",
    "LD_MCF7_2 = scipy.io.loadmat(path +  'M2_LD_MCF_7.mat')\n",
    "LD_MCF7_2 = LD_MCF7_2['LD_MCF_7']\n",
    "LD_muscle_2 = scipy.io.loadmat(path +  'M2_LD_muscle_back.mat')\n",
    "LD_muscle_2 = LD_muscle_2['LD_Muscle']\n",
    "\n",
    "# path2 = '/Volumes/CX/JHU/Machine_Learning_BreastTumor/results/20210104/old_mice/M3/'\n",
    "# LD_MDA231_3 = scipy.io.loadmat(path2 +  'M3_LD_MDA_MB_231.mat')\n",
    "# LD_MDA231_3 = LD_MDA231_3['LD_MDA_MB_231']\n",
    "# LD_MCF7_3 = scipy.io.loadmat(path2 +  'M3_LD_MCF_7.mat')\n",
    "# LD_MCF7_3 = LD_MCF7_3['LD_MCF_7']\n",
    "# LD_muscle_3 = scipy.io.loadmat(path2 +  'M3_LD_muscle_back.mat')\n",
    "# LD_muscle_3 = LD_muscle_3['LD_Muscle']\n",
    "\n",
    "path2 = '/Volumes/CX/JHU/Machine_Learning_BreastTumor/results/20210104/old_mice/M3-2/'\n",
    "LD_MDA231_3_2 = scipy.io.loadmat(path2 +  'M3_2_LD_MDA_MB_231.mat')\n",
    "LD_MDA231_3_2 = LD_MDA231_3_2['LD_MDA_MB_231']\n",
    "LD_MCF7_3_2 = scipy.io.loadmat(path2 +  'M3_2_LD_MCF_7.mat')\n",
    "LD_MCF7_3_2 = LD_MCF7_3_2['LD_MCF_7']\n",
    "LD_muscle_3_2 = scipy.io.loadmat(path2 +  'M3_2_LD_muscle_back.mat')\n",
    "LD_muscle_3_2 = LD_muscle_3_2['LD_Muscle']\n",
    "\n",
    "path2 = '/Volumes/CX/JHU/Machine_Learning_BreastTumor/results/20210104/new_mice/M1-5/'\n",
    "LD_MDA231_4 = scipy.io.loadmat(path2 +  'M1_LD_MDA_MB_231.mat')\n",
    "LD_MDA231_4 = LD_MDA231_4['LD_MDA_MB_231']\n",
    "LD_MCF7_4 = scipy.io.loadmat(path2 +  'M1_LD_MCF_7.mat')\n",
    "LD_MCF7_4 = LD_MCF7_4['LD_MCF_7']\n",
    "LD_muscle_4 = scipy.io.loadmat(path2 +  'M1_LD_muscle_back.mat')\n",
    "LD_muscle_4 = LD_muscle_4['LD_Muscle']\n",
    "\n",
    "path2 = '/Volumes/CX/JHU/Machine_Learning_BreastTumor/results/20210104/old_mice/M4/'\n",
    "LD_MDA231_5 = scipy.io.loadmat(path2 +  'M4_LD_MDA_MB_231.mat')\n",
    "LD_MDA231_5 = LD_MDA231_5['LD_MDA_MB_231']\n",
    "LD_MCF7_5 = scipy.io.loadmat(path2 +  'M4_LD_MCF_7.mat')\n",
    "LD_MCF7_5 = LD_MCF7_5['LD_MCF_7']\n",
    "LD_muscle_5 = scipy.io.loadmat(path2 +  'M4_LD_muscle_back.mat')\n",
    "LD_muscle_5 = LD_muscle_5['LD_Muscle']\n",
    "\n",
    "cestFreq = np.linspace(-6,6,81)"
   ]
  },
  {
   "cell_type": "code",
   "execution_count": 3,
   "metadata": {},
   "outputs": [],
   "source": [
    "import scipy.io\n",
    "path3 = '/Volumes/CX/JHU/Machine_Learning_BreastTumor/results/20210104/old_mice/M1-3/'\n",
    "MTR_MDA231_1_3 = scipy.io.loadmat(path3 +  'M1_3_MTR_MDA_MB_231.mat')\n",
    "MTR_MDA231_1_3 = MTR_MDA231_1_3['MTR_MDA_MB_231']\n",
    "MTR_MCF7_1_3 = scipy.io.loadmat(path3 +  'M1_3_MTR_MCF_7.mat')\n",
    "MTR_MCF7_1_3 = MTR_MCF7_1_3['MTR_MCF_7']\n",
    "MTR_muscle_1_3 = scipy.io.loadmat(path3 +  'M1_3_MTR_muscle_back.mat')\n",
    "MTR_muscle_1_3 = MTR_muscle_1_3['MTR_Muscle_back']\n",
    "\n",
    "path = '/Volumes/CX/JHU/Machine_Learning_BreastTumor/results/20210104/old_mice/M2/'\n",
    "MTR_MDA231_2 = scipy.io.loadmat(path +  'M2_MTR_MDA_MB_231.mat')\n",
    "MTR_MDA231_2 = MTR_MDA231_2['MTR_MDA_MB_231']\n",
    "MTR_MCF7_2 = scipy.io.loadmat(path +  'M2_MTR_MCF_7.mat')\n",
    "MTR_MCF7_2 = MTR_MCF7_2['MTR_MCF_7']\n",
    "MTR_muscle_2 = scipy.io.loadmat(path +  'M2_MTR_muscle_back.mat')\n",
    "MTR_muscle_2 = MTR_muscle_2['MTR_Muscle_back']\n",
    "\n",
    "# path2 = '/Volumes/CX/JHU/Machine_Learning_BreastTumor/results/20210104/old_mice/M3/'\n",
    "# MTR_MDA231_3 = scipy.io.loadmat(path2 +  'M3_MTR_MDA_MB_231.mat')\n",
    "# MTR_MDA231_3 = MTR_MDA231_3['MTR_MDA_MB_231']\n",
    "# MTR_MCF7_3 = scipy.io.loadmat(path2 +  'M3_MTR_MCF_7.mat')\n",
    "# MTR_MCF7_3 = MTR_MCF7_3['MTR_MCF_7']\n",
    "# MTR_muscle_3 = scipy.io.loadmat(path2 +  'M3_MTR_muscle_back.mat')\n",
    "# MTR_muscle_3 = MTR_muscle_3['MTR_Muscle_back']\n",
    "\n",
    "path2 = '/Volumes/CX/JHU/Machine_Learning_BreastTumor/results/20210104/old_mice/M3-2/'\n",
    "MTR_MDA231_3_2 = scipy.io.loadmat(path2 +  'M3_2_MTR_MDA_MB_231.mat')\n",
    "MTR_MDA231_3_2 = MTR_MDA231_3_2['MTR_MDA_MB_231']\n",
    "MTR_MCF7_3_2 = scipy.io.loadmat(path2 +  'M3_2_MTR_MCF_7.mat')\n",
    "MTR_MCF7_3_2 = MTR_MCF7_3_2['MTR_MCF_7']\n",
    "MTR_muscle_3_2 = scipy.io.loadmat(path2 +  'M3_2_MTR_muscle_back.mat')\n",
    "MTR_muscle_3_2 = MTR_muscle_3_2['MTR_Muscle_back']\n",
    "\n",
    "path2 = '/Volumes/CX/JHU/Machine_Learning_BreastTumor/results/20210104/new_mice/M1-5/'\n",
    "MTR_MDA231_4 = scipy.io.loadmat(path2 +  'M1_MTR_MDA_MB_231.mat')\n",
    "MTR_MDA231_4 = MTR_MDA231_4['MTR_MDA_MB_231']\n",
    "MTR_MCF7_4 = scipy.io.loadmat(path2 +  'M1_MTR_MCF_7.mat')\n",
    "MTR_MCF7_4 = MTR_MCF7_4['MTR_MCF_7']\n",
    "MTR_muscle_4 = scipy.io.loadmat(path2 +  'M1_MTR_muscle_back.mat')\n",
    "MTR_muscle_4 = MTR_muscle_4['MTR_Muscle_back']\n",
    "\n",
    "path2 = '/Volumes/CX/JHU/Machine_Learning_BreastTumor/results/20210104/old_mice/M4/'\n",
    "MTR_MDA231_5 = scipy.io.loadmat(path2 +  'M4_MTR_MDA_MB_231.mat')\n",
    "MTR_MDA231_5 = MTR_MDA231_5['MTR_MDA_MB_231']\n",
    "MTR_MCF7_5 = scipy.io.loadmat(path2 +  'M4_MTR_MCF_7.mat')\n",
    "MTR_MCF7_5 = MTR_MCF7_5['MTR_MCF_7']\n",
    "MTR_muscle_5 = scipy.io.loadmat(path2 +  'M4_MTR_muscle_back.mat')\n",
    "MTR_muscle_5 = MTR_muscle_5['MTR_Muscle_back']\n"
   ]
  },
  {
   "cell_type": "code",
   "execution_count": 4,
   "metadata": {},
   "outputs": [],
   "source": [
    "\n",
    "LD_1_3 = zeros((3, 3, 81))\n",
    "LD_1_3[0] = LD_MDA231_1_3\n",
    "LD_1_3[1] = LD_MCF7_1_3\n",
    "LD_1_3[2] = LD_muscle_1_3\n",
    "MTR_1_3 = zeros((3, 3, 40))\n",
    "MTR_1_3[0] = MTR_MDA231_1_3\n",
    "MTR_1_3[1] = MTR_MCF7_1_3\n",
    "MTR_1_3[2] = MTR_muscle_1_3\n",
    "\n",
    "LD_2 = zeros((3, 3, 81))\n",
    "LD_2[0] = LD_MDA231_2\n",
    "LD_2[1] = LD_MCF7_2\n",
    "LD_2[2] = LD_muscle_2\n",
    "MTR_2 = zeros((3, 3, 40))\n",
    "MTR_2[0] = MTR_MDA231_2\n",
    "MTR_2[1] = MTR_MCF7_2\n",
    "MTR_2[2] = MTR_muscle_2\n",
    "\n",
    "# LD_3 = zeros((3, 3, 81))\n",
    "# LD_3[0] = LD_MDA231_3\n",
    "# LD_3[1] = LD_MCF7_3\n",
    "# LD_3[2] = LD_muscle_3\n",
    "# MTR_3 = zeros((3, 3, 40))\n",
    "# MTR_3[0] = MTR_MDA231_3\n",
    "# MTR_3[1] = MTR_MCF7_3\n",
    "# MTR_3[2] = MTR_muscle_3\n",
    "\n",
    "LD_3_2 = zeros((3, 3, 81))\n",
    "LD_3_2[0] = LD_MDA231_3_2\n",
    "LD_3_2[1] = LD_MCF7_3_2\n",
    "LD_3_2[2] = LD_muscle_3_2\n",
    "MTR_3_2 = zeros((3, 3, 40))\n",
    "MTR_3_2[0] = MTR_MDA231_3_2\n",
    "MTR_3_2[1] = MTR_MCF7_3_2\n",
    "MTR_3_2[2] = MTR_muscle_3_2\n",
    "\n",
    "LD_4 = zeros((3, 3, 81))\n",
    "LD_4[0] = LD_MDA231_4\n",
    "LD_4[1] = LD_MCF7_4\n",
    "LD_4[2] = LD_muscle_4\n",
    "MTR_4 = zeros((3, 3, 40))\n",
    "MTR_4[0] = MTR_MDA231_4\n",
    "MTR_4[1] = MTR_MCF7_4\n",
    "MTR_4[2] = MTR_muscle_4\n",
    "\n",
    "LD_5 = zeros((3, 3, 81))\n",
    "LD_5[0] = LD_MDA231_5\n",
    "LD_5[1] = LD_MCF7_5\n",
    "LD_5[2] = LD_muscle_5\n",
    "MTR_5 = zeros((3, 3, 40))\n",
    "MTR_5[0] = MTR_MDA231_5\n",
    "MTR_5[1] = MTR_MCF7_5\n",
    "MTR_5[2] = MTR_muscle_5"
   ]
  },
  {
   "cell_type": "code",
   "execution_count": 5,
   "metadata": {},
   "outputs": [
    {
     "data": {
      "text/plain": [
       "(6, -6)"
      ]
     },
     "execution_count": 5,
     "metadata": {},
     "output_type": "execute_result"
    },
    {
     "data": {
      "image/png": "[encoded data removed]",
      "text/plain": [
       "<Figure size 432x288 with 1 Axes>"
      ]
     },
     "metadata": {
      "needs_background": "light"
     },
     "output_type": "display_data"
    }
   ],
   "source": [
    "plot(cestFreq, LD_3_2[0,2],'b')\n",
    "plot(cestFreq, LD_3_2[1,2], 'r')\n",
    "plot(cestFreq, LD_3_2[2,2], 'g')\n",
    "xlim(6, -6)"
   ]
  },
  {
   "cell_type": "code",
   "execution_count": 6,
   "metadata": {},
   "outputs": [
    {
     "data": {
      "text/plain": [
       "(5, 3, 40)"
      ]
     },
     "execution_count": 6,
     "metadata": {},
     "output_type": "execute_result"
    }
   ],
   "source": [
    "# combine data\n",
    "# mice, roi, frequency\n",
    "tag = 2\n",
    "LD = []\n",
    "LD.append(LD_1_3[:,tag])\n",
    "LD.append(LD_2[:,tag])\n",
    "# LD.append(LD_3[:,tag])\n",
    "LD.append(LD_3_2[:,tag])\n",
    "LD.append(LD_4[:,tag])\n",
    "LD.append(LD_5[:,tag])\n",
    "LD = array(LD)\n",
    "\n",
    "MTRasym = []\n",
    "MTRasym.append(MTR_1_3[:,tag])\n",
    "MTRasym.append(MTR_2[:,tag])\n",
    "# MTRasym.append(MTR_3[:,tag])\n",
    "MTRasym.append(MTR_3_2[:,tag])\n",
    "MTRasym.append(MTR_4[:,tag])\n",
    "MTRasym.append(MTR_5[:,tag])\n",
    "MTRasym = array(MTRasym)\n",
    "\n",
    "MTRasym.shape"
   ]
  },
  {
   "cell_type": "code",
   "execution_count": 7,
   "metadata": {},
   "outputs": [],
   "source": [
    "def CEST_Avg(cestData, indsFreq, beginFreq, endFreq):\n",
    "    Inds = where((indsFreq>=beginFreq) & (indsFreq<=endFreq))\n",
    "#     print Inds\n",
    "    cest_Avg = zeros((cestData.shape[0], cestData.shape[1]))\n",
    "    \n",
    "    for mm in range(cestData.shape[0]):\n",
    "        for nn in range(cestData.shape[1]):\n",
    "            for ii in Inds[0]:\n",
    "                cest_Avg[mm, nn] = add(cest_Avg[mm,nn], cestData[mm, nn, ii])\n",
    "            cest_Avg[mm, nn]  = cest_Avg[mm, nn] / len(Inds[0])\n",
    "    return cest_Avg*100"
   ]
  },
  {
   "cell_type": "code",
   "execution_count": 8,
   "metadata": {},
   "outputs": [],
   "source": [
    "# 2ppm\n",
    "beginFreq = 1.9\n",
    "endFreq = 2.1\n",
    "cest_LD_Avg_2pt = CEST_Avg(LD, cestFreq, beginFreq, endFreq)\n",
    "asymFreq = cestFreq[where(cestFreq>0)]\n",
    "cest_MTRasym_Avg_2pt = CEST_Avg(MTRasym, asymFreq, beginFreq, endFreq)\n",
    "\n",
    "# save_dir = '/Users/cbie1/Documents/CEST_Machine_learning_BreastTumor/Paper/picture/20200801/'\n",
    "# numpy.savetxt(save_dir + 'cest_Zspec_Avg_2pt.csv', transpose(cest_Zspec_Avg_2pt), delimiter = ',')\n",
    "# numpy.savetxt(save_dir + 'cest_LD_Avg_2pt.csv', transpose(cest_LD_Avg_2pt), delimiter = ',')\n",
    "# numpy.savetxt(save_dir + 'cest_MTRasym_Avg_2pt.csv', transpose(cest_MTRasym_Avg_2pt), delimiter = ',')\n",
    "\n",
    "\n",
    "# 3.5ppm\n",
    "beginFreq = 3.45\n",
    "endFreq = 3.65\n",
    "cest_LD_Avg_3pt6 = CEST_Avg(LD, cestFreq, beginFreq, endFreq)\n",
    "cest_MTRasym_Avg_3pt6 = CEST_Avg(MTRasym, asymFreq, beginFreq, endFreq)\n",
    "\n",
    "# numpy.savetxt(save_dir + 'cest_Zspec_Avg_3pt6.csv', transpose(cest_Zspec_Avg_3pt6), delimiter = ',')\n",
    "# numpy.savetxt(save_dir + 'cest_LD_Avg_3pt6.csv', transpose(cest_LD_Avg_3pt6), delimiter = ',')\n",
    "# numpy.savetxt(save_dir + 'cest_MTRasym_Avg_3pt6.csv', transpose(cest_MTRasym_Avg_3pt6), delimiter = ',')\n",
    "\n",
    "# -3.5ppm\n",
    "beginFreq = -3.75\n",
    "endFreq = -3.35\n",
    "cest_LD_Avg_n3pt5 = CEST_Avg(LD, cestFreq, beginFreq, endFreq)\n",
    "\n",
    "# numpy.savetxt(save_dir + 'cest_Zspec_Avg_n3pt5.csv', transpose(cest_Zspec_Avg_n3pt5), delimiter = ',')\n",
    "# numpy.savetxt(save_dir + 'cest_LD_Avg_n3pt5.csv', transpose(cest_LD_Avg_n3pt5), delimiter = ',')\n"
   ]
  },
  {
   "cell_type": "code",
   "execution_count": 9,
   "metadata": {},
   "outputs": [
    {
     "data": {
      "text/plain": [
       "(5,)"
      ]
     },
     "execution_count": 9,
     "metadata": {},
     "output_type": "execute_result"
    }
   ],
   "source": [
    "cest_LD_Avg_2pt.shape\n",
    "cest_LD_Avg_2pt[:,0].shape\n",
    "# LD_1_3[:,tag].shape"
   ]
  },
  {
   "cell_type": "code",
   "execution_count": 10,
   "metadata": {},
   "outputs": [],
   "source": [
    "save_dir = '/Volumes/CX/JHU/Machine_Learning_BreastTumor/results/20210104/statistic/'\n",
    "CEST_LD_MDA_MB_231 = zeros((3,5))\n",
    "CEST_LD_MDA_MB_231[0]= cest_LD_Avg_2pt[:,0]\n",
    "CEST_LD_MDA_MB_231[1]= cest_LD_Avg_3pt6[:,0]\n",
    "CEST_LD_MDA_MB_231[2]= cest_LD_Avg_n3pt5[:,0]\n",
    "\n",
    "CEST_LD_MCF_7 = zeros((3,5))\n",
    "CEST_LD_MCF_7[0]= cest_LD_Avg_2pt[:,1]\n",
    "CEST_LD_MCF_7[1]= cest_LD_Avg_3pt6[:,1]\n",
    "CEST_LD_MCF_7[2]= cest_LD_Avg_n3pt5[:,1]\n",
    "\n",
    "CEST_LD_muscle = zeros((3,5))\n",
    "CEST_LD_muscle[0]= cest_LD_Avg_2pt[:,2]\n",
    "CEST_LD_muscle[1]= cest_LD_Avg_3pt6[:,2]\n",
    "CEST_LD_muscle[2]= cest_LD_Avg_n3pt5[:,2]\n",
    "\n",
    "numpy.savetxt(save_dir + 'LD-MDA-MB-231.csv', CEST_LD_MDA_MB_231, delimiter = ',')\n",
    "numpy.savetxt(save_dir + 'LD-MCF-7.csv', CEST_LD_MCF_7, delimiter = ',')\n",
    "numpy.savetxt(save_dir + 'LD-muscle.csv', CEST_LD_muscle, delimiter = ',')\n"
   ]
  },
  {
   "cell_type": "code",
   "execution_count": 11,
   "metadata": {},
   "outputs": [
    {
     "data": {
      "text/plain": [
       "array([[ 8.54858661, 10.33860757, 10.10445989,  9.24414539,  8.19058421],\n",
       "       [ 8.41069601,  9.51171112,  9.98285041,  8.52125378,  8.01381589],\n",
       "       [10.03263479, 11.64360875, 12.32241056,  9.98007987, 11.36496672]])"
      ]
     },
     "execution_count": 11,
     "metadata": {},
     "output_type": "execute_result"
    }
   ],
   "source": [
    "CEST_LD_MDA_MB_231\n",
    "CEST_LD_MCF_7"
   ]
  },
  {
   "cell_type": "code",
   "execution_count": 12,
   "metadata": {},
   "outputs": [],
   "source": [
    "CEST_MTRasym_MDA_MB_231 = zeros((2,5))\n",
    "CEST_MTRasym_MDA_MB_231[0]= cest_MTRasym_Avg_2pt[:,0]\n",
    "CEST_MTRasym_MDA_MB_231[1]= cest_MTRasym_Avg_3pt6[:,0]\n",
    "\n",
    "CEST_MTRasym_MCF_7 = zeros((2,5))\n",
    "CEST_MTRasym_MCF_7[0]= cest_MTRasym_Avg_2pt[:,1]\n",
    "CEST_MTRasym_MCF_7[1]= cest_MTRasym_Avg_3pt6[:,1]\n",
    "\n",
    "CEST_MTRasym_muscle = zeros((2,5))\n",
    "CEST_MTRasym_muscle[0]= cest_MTRasym_Avg_2pt[:,2]\n",
    "CEST_MTRasym_muscle[1]= cest_MTRasym_Avg_3pt6[:,2]\n",
    "\n",
    "numpy.savetxt(save_dir + 'MTRasym-MDA-MB-231.csv', CEST_MTRasym_MDA_MB_231, delimiter = ',')\n",
    "numpy.savetxt(save_dir + 'MTRasym-MCF-7.csv', CEST_MTRasym_MCF_7, delimiter = ',')\n",
    "numpy.savetxt(save_dir + 'MTRasym-muscle.csv', CEST_MTRasym_muscle, delimiter = ',')\n"
   ]
  },
  {
   "cell_type": "code",
   "execution_count": null,
   "metadata": {},
   "outputs": [],
   "source": []
  },
  {
   "cell_type": "code",
   "execution_count": null,
   "metadata": {},
   "outputs": [],
   "source": []
  }
 ],
 "metadata": {
  "kernelspec": {
   "display_name": "Python 2",
   "language": "python",
   "name": "python2"
  },
  "language_info": {
   "codemirror_mode": {
    "name": "ipython",
    "version": 2
   },
   "file_extension": ".py",
   "mimetype": "text/x-python",
   "name": "python",
   "nbconvert_exporter": "python",
   "pygments_lexer": "ipython2",
   "version": "2.7.17"
  }
 },
 "nbformat": 4,
 "nbformat_minor": 2
}
